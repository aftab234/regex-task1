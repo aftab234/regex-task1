{
 "cells": [
  {
   "cell_type": "markdown",
   "id": "06869e56",
   "metadata": {},
   "source": [
    "## #Task-1\n",
    "### Name: Aftab Ahmed\n",
    "### Registration ID: SIRSS2310"
   ]
  },
  {
   "cell_type": "markdown",
   "id": "c1677aa7",
   "metadata": {},
   "source": [
    "## 1"
   ]
  },
  {
   "cell_type": "code",
   "execution_count": 1,
   "id": "13552127",
   "metadata": {
    "scrolled": true
   },
   "outputs": [
    {
     "name": "stdout",
     "output_type": "stream",
     "text": [
      "5 5 5 5 5 \n",
      "5 5 5 5 \n",
      "5 5 5 \n",
      "5 5 \n",
      "5 \n"
     ]
    }
   ],
   "source": [
    "for i in range(5,0,-1):\n",
    "    for j in range(1,i+1):\n",
    "        print(\"5\", end = ' ')\n",
    "    print()"
   ]
  },
  {
   "cell_type": "markdown",
   "id": "d80733f6",
   "metadata": {},
   "source": [
    "## 2"
   ]
  },
  {
   "cell_type": "code",
   "execution_count": 2,
   "id": "2a049f67",
   "metadata": {},
   "outputs": [
    {
     "name": "stdout",
     "output_type": "stream",
     "text": [
      "0 1 2 3 4 5 \n",
      "0 1 2 3 4 \n",
      "0 1 2 3 \n",
      "0 1 2 \n",
      "0 1 \n"
     ]
    }
   ],
   "source": [
    "for k in range(5,0,-1):\n",
    "    for l in range(0,k+1):\n",
    "        print(l, end = ' ')\n",
    "    print()"
   ]
  },
  {
   "cell_type": "markdown",
   "id": "c97c781a",
   "metadata": {},
   "source": [
    "## 3"
   ]
  },
  {
   "cell_type": "code",
   "execution_count": 3,
   "id": "83e978f8",
   "metadata": {
    "scrolled": true
   },
   "outputs": [
    {
     "name": "stdout",
     "output_type": "stream",
     "text": [
      "1 \n",
      "3 3 \n",
      "5 5 5 \n",
      "7 7 7 7 \n",
      "9 9 9 9 9 \n"
     ]
    }
   ],
   "source": [
    "for m in range(0,10,1):\n",
    "    if m%2!=0:\n",
    "        for n in range(0,m,2):\n",
    "            print(m, end = ' ')\n",
    "        print()"
   ]
  },
  {
   "cell_type": "markdown",
   "id": "a7b956cc",
   "metadata": {},
   "source": [
    "## 4"
   ]
  },
  {
   "cell_type": "code",
   "execution_count": 4,
   "id": "48136346",
   "metadata": {},
   "outputs": [
    {
     "name": "stdout",
     "output_type": "stream",
     "text": [
      "\n",
      "1 \n",
      "2 1 \n",
      "3 2 1 \n",
      "4 3 2 1 \n",
      "5 4 3 2 1 \n"
     ]
    }
   ],
   "source": [
    "for k in range(0,6):\n",
    "    for l in range(k,0,-1):\n",
    "        print(l, end = ' ')\n",
    "    print()"
   ]
  },
  {
   "cell_type": "markdown",
   "id": "edbb8272",
   "metadata": {},
   "source": [
    "## 5"
   ]
  },
  {
   "cell_type": "code",
   "execution_count": 5,
   "id": "cb8634df",
   "metadata": {},
   "outputs": [
    {
     "name": "stdout",
     "output_type": "stream",
     "text": [
      "1 \n",
      "3 2 \n",
      "6 5 4 \n",
      "10 9 8 7 \n"
     ]
    }
   ],
   "source": [
    "a=1\n",
    "b=2\n",
    "c=b\n",
    "for m in range(2,6):\n",
    "    for n in range(a,b):\n",
    "        c-=1\n",
    "        print(c, end=' ')\n",
    "    print()\n",
    "    a=b\n",
    "    b+=m\n",
    "    c=b"
   ]
  },
  {
   "cell_type": "markdown",
   "id": "e9b7a71c",
   "metadata": {},
   "source": [
    "## 6"
   ]
  },
  {
   "cell_type": "code",
   "execution_count": 6,
   "id": "3101623f",
   "metadata": {},
   "outputs": [
    {
     "name": "stdout",
     "output_type": "stream",
     "text": [
      "1 \n",
      "1 1 \n",
      "1 2 1 \n",
      "1 3 3 1 \n",
      "1 4 6 4 1 \n",
      "1 5 10 10 5 1 \n",
      "1 6 15 20 15 6 1 \n"
     ]
    }
   ],
   "source": [
    "for i in range(1, 8):\n",
    "    for j in range(0, 8-i):\n",
    "        print('', end='')\n",
    "    C=1\n",
    "    for j in range(1, i+1):\n",
    "        print( C,  end=' ')\n",
    "        C=C*(i-j)//j\n",
    "    print()"
   ]
  },
  {
   "cell_type": "markdown",
   "id": "9710ec48",
   "metadata": {},
   "source": [
    "## 7"
   ]
  },
  {
   "cell_type": "code",
   "execution_count": 7,
   "id": "a2e0c4f9",
   "metadata": {},
   "outputs": [
    {
     "name": "stdout",
     "output_type": "stream",
     "text": [
      "1 2 3 4 5 \n",
      "2 2 3 4 5 \n",
      "3 3 3 4 5 \n",
      "4 4 4 4 5 \n",
      "5 5 5 5 5 \n"
     ]
    }
   ],
   "source": [
    "for i in range(1,6):\n",
    "    for j in range(1,6):\n",
    "        if j<=i:\n",
    "            print(i, end = ' ')\n",
    "        else:\n",
    "            print(j, end = ' ')\n",
    "    print()"
   ]
  },
  {
   "cell_type": "markdown",
   "id": "63c789a5",
   "metadata": {},
   "source": [
    "## 8"
   ]
  },
  {
   "cell_type": "code",
   "execution_count": 8,
   "id": "75d40725",
   "metadata": {},
   "outputs": [
    {
     "name": "stdout",
     "output_type": "stream",
     "text": [
      "1 \n",
      "2 4 \n",
      "3 6 9 \n",
      "4 8 12 16 \n",
      "5 10 15 20 25 \n",
      "6 12 18 24 30 36 \n",
      "7 14 21 28 35 42 49 \n",
      "8 16 24 32 40 48 56 64 \n"
     ]
    }
   ],
   "source": [
    "for i in range(1,9):\n",
    "    for j in range(1,i+1):\n",
    "        mult = i*j\n",
    "        print(mult, end = ' ')\n",
    "    print()"
   ]
  },
  {
   "cell_type": "markdown",
   "id": "81fd180f",
   "metadata": {},
   "source": [
    "## 9"
   ]
  },
  {
   "cell_type": "code",
   "execution_count": 9,
   "id": "a23dc33c",
   "metadata": {},
   "outputs": [
    {
     "name": "stdout",
     "output_type": "stream",
     "text": [
      "        * * * * * * \n",
      "         * * * * * \n",
      "          * * * * \n",
      "           * * * \n",
      "            * * \n",
      "             * \n"
     ]
    }
   ],
   "source": [
    "for i in range(6,0,-1):\n",
    "    for j in range(4,0,-1):\n",
    "            print(' ', end= ' ')\n",
    "    for j in range(5,-1,-1):\n",
    "        if j>=i:\n",
    "            print(' ', end= '')\n",
    "        else:\n",
    "            print('* ', end='')\n",
    "    print()"
   ]
  },
  {
   "cell_type": "markdown",
   "id": "5a845cb5",
   "metadata": {},
   "source": [
    "## 10"
   ]
  },
  {
   "cell_type": "code",
   "execution_count": 10,
   "id": "9b10df59",
   "metadata": {},
   "outputs": [
    {
     "name": "stdout",
     "output_type": "stream",
     "text": [
      "              \n",
      "             *  \n",
      "            *  *  \n",
      "           *  *  *  \n",
      "          *  *  *  *  \n",
      "         *  *  *  *  *  \n",
      "        *  *  *  *  *  *  \n",
      "       *  *  *  *  *  *  *  \n"
     ]
    }
   ],
   "source": [
    "for j in range(7,-1,-1):\n",
    "    print(' '*6, end = ' ')\n",
    "    for i in range(1,8):\n",
    "        if i<=j:\n",
    "            print(' ', end='')\n",
    "        else:\n",
    "            print('* ', end=' ')\n",
    "    print()"
   ]
  },
  {
   "cell_type": "markdown",
   "id": "98216a68",
   "metadata": {},
   "source": [
    "## 11 "
   ]
  },
  {
   "cell_type": "code",
   "execution_count": 11,
   "id": "1faee81c",
   "metadata": {
    "scrolled": false
   },
   "outputs": [
    {
     "name": "stdout",
     "output_type": "stream",
     "text": [
      "* \n",
      "* * \n",
      "* * * \n",
      "* * * * \n",
      "* * * * * \n",
      "* * * * * * \n",
      "\n",
      "* * * * * * \n",
      "* * * * * \n",
      "* * * * \n",
      "* * * \n",
      "* * \n",
      "* \n"
     ]
    }
   ],
   "source": [
    "for i in range(1,7):\n",
    "    for j in range(0,abs(i)):\n",
    "        print('*', end=' ')\n",
    "    print()\n",
    "\n",
    "print()\n",
    "\n",
    "for i in range(6,0,-1):\n",
    "    for j in range(abs(i),0,-1):\n",
    "        print('*', end= ' ')\n",
    "    print()"
   ]
  },
  {
   "cell_type": "markdown",
   "id": "8fddc1e8",
   "metadata": {},
   "source": [
    "## 12"
   ]
  },
  {
   "cell_type": "code",
   "execution_count": 12,
   "id": "a3d62ad7",
   "metadata": {},
   "outputs": [
    {
     "name": "stdout",
     "output_type": "stream",
     "text": [
      "* \n",
      "* * \n",
      "* * * \n",
      "* * * * \n",
      "* * * * * \n",
      "* * * * \n",
      "* * * \n",
      "* * \n",
      "* \n"
     ]
    }
   ],
   "source": [
    "for i in range(1,6):\n",
    "    for j in range(0,i):\n",
    "        print('*', end=' ')\n",
    "    print()\n",
    "for i in range(4,0,-1):\n",
    "    for j in range(i,0,-1):\n",
    "        print('*', end= ' ')\n",
    "    print()"
   ]
  },
  {
   "cell_type": "markdown",
   "id": "f3e4c48b",
   "metadata": {},
   "source": [
    "## 13"
   ]
  },
  {
   "cell_type": "code",
   "execution_count": 13,
   "id": "63a9f9ff",
   "metadata": {
    "scrolled": true
   },
   "outputs": [
    {
     "name": "stdout",
     "output_type": "stream",
     "text": [
      "          \n",
      "        * \n",
      "      * * \n",
      "    * * * \n",
      "  * * * * \n",
      "* * * * * \n",
      "  * * * * \n",
      "    * * * \n",
      "      * * \n",
      "        * \n"
     ]
    }
   ],
   "source": [
    "for j in range(4,-1,-1):\n",
    "    for i in range(-1,4):\n",
    "        if i<j:\n",
    "            print(' ', end=' ')\n",
    "        else:\n",
    "            print('*', end=' ')\n",
    "    print()\n",
    "for i in range(5,0,-1):\n",
    "    for j in range(5,0,-1):\n",
    "        if j>i:\n",
    "            print(' ', end= ' ')\n",
    "        else:\n",
    "            print('*', end=' ')\n",
    "    print()"
   ]
  },
  {
   "cell_type": "markdown",
   "id": "c507aba9",
   "metadata": {},
   "source": [
    "## 14"
   ]
  },
  {
   "cell_type": "code",
   "execution_count": 14,
   "id": "3b5d0eb6",
   "metadata": {},
   "outputs": [
    {
     "name": "stdout",
     "output_type": "stream",
     "text": [
      "* * * * * \n",
      " * * * * \n",
      "  * * * \n",
      "   * * \n",
      "    * \n",
      "   * * \n",
      "  * * * \n",
      " * * * * \n",
      "* * * * * \n"
     ]
    }
   ],
   "source": [
    "for i in range(5,0,-1):\n",
    "    for j in range(4,-1,-1):\n",
    "        if j>=i:\n",
    "            print(' ', end= '')\n",
    "        else:\n",
    "            print('* ', end='')\n",
    "    print()\n",
    "for j in range(3,-1,-1):\n",
    "    for i in range(1,6):\n",
    "        if i<=j:\n",
    "            print(' ', end='')\n",
    "        else:\n",
    "            print('* ', end='')\n",
    "    print()"
   ]
  },
  {
   "cell_type": "markdown",
   "id": "e84bdb30",
   "metadata": {},
   "source": [
    "## 15"
   ]
  },
  {
   "cell_type": "code",
   "execution_count": 15,
   "id": "fd4b1881",
   "metadata": {
    "scrolled": true
   },
   "outputs": [
    {
     "name": "stdout",
     "output_type": "stream",
     "text": [
      "****************\n",
      "*******__*******\n",
      "******____******\n",
      "*****______*****\n",
      "****________****\n",
      "***__________***\n",
      "**____________**\n",
      "*______________*\n"
     ]
    }
   ],
   "source": [
    "for i in range(8,0,-1):\n",
    "    for j in range(i,0,-1):\n",
    "        print('*', end='')\n",
    "    for k in range(8,i,-1):\n",
    "        print('_'*2, end='')\n",
    "    for l in range(0,i):\n",
    "        print('*',end='')\n",
    "    print()"
   ]
  }
 ],
 "metadata": {
  "kernelspec": {
   "display_name": "Python 3",
   "language": "python",
   "name": "python3"
  },
  "language_info": {
   "codemirror_mode": {
    "name": "ipython",
    "version": 3
   },
   "file_extension": ".py",
   "mimetype": "text/x-python",
   "name": "python",
   "nbconvert_exporter": "python",
   "pygments_lexer": "ipython3",
   "version": "3.8.8"
  }
 },
 "nbformat": 4,
 "nbformat_minor": 5
}
